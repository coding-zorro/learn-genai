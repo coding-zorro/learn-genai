{
 "cells": [
  {
   "cell_type": "code",
   "execution_count": null,
   "id": "136d3fea",
   "metadata": {},
   "outputs": [],
   "source": [
    "from langchain_ollama import OllamaLLM\n",
    "from langchain_core.globals import set_llm_cache\n",
    "from langchain_core.caches import InMemoryCache\n",
    "\n",
    "llm = OllamaLLM(model=\"mistral\")\n",
    "\n",
    "## This uses an In Memory Cache\n",
    "set_llm_cache(InMemoryCache())\n"
   ]
  },
  {
   "cell_type": "code",
   "execution_count": null,
   "id": "7100f637",
   "metadata": {},
   "outputs": [],
   "source": [
    "%%time\n",
    "llm.invoke(\"Tell me a joke\")"
   ]
  },
  {
   "cell_type": "code",
   "execution_count": null,
   "id": "27a60e23",
   "metadata": {},
   "outputs": [],
   "source": [
    "# This query is repeated. It takes much lesser time as the response is fetched from the in memory cache.\n",
    "%%time\n",
    "llm.invoke(\"Tell me a joke\")"
   ]
  },
  {
   "cell_type": "code",
   "execution_count": null,
   "id": "493e42e2",
   "metadata": {},
   "outputs": [],
   "source": [
    "from langchain_community.cache import SQLiteCache\n",
    "\n",
    "#This uses a SQLiteCache stored in the disk\n",
    "set_llm_cache(SQLiteCache(database_path=\"data/.langchain.db\"))"
   ]
  },
  {
   "cell_type": "code",
   "execution_count": null,
   "id": "f24a02a1",
   "metadata": {},
   "outputs": [],
   "source": [
    "%%time\n",
    "# The first time, it is not yet in cache, so it should take longer\n",
    "llm.invoke(\"Tell me a joke\")"
   ]
  },
  {
   "cell_type": "code",
   "execution_count": null,
   "id": "de0e7c88",
   "metadata": {},
   "outputs": [],
   "source": [
    "%%time\n",
    "# The second time it is, so it goes faster\n",
    "llm.invoke(\"Tell me a joke\")"
   ]
  }
 ],
 "metadata": {
  "kernelspec": {
   "display_name": ".venv",
   "language": "python",
   "name": "python3"
  },
  "language_info": {
   "codemirror_mode": {
    "name": "ipython",
    "version": 3
   },
   "file_extension": ".py",
   "mimetype": "text/x-python",
   "name": "python",
   "nbconvert_exporter": "python",
   "pygments_lexer": "ipython3",
   "version": "3.13.5"
  }
 },
 "nbformat": 4,
 "nbformat_minor": 5
}
