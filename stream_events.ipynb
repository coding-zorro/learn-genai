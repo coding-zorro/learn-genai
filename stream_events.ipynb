{
 "cells": [
  {
   "cell_type": "code",
   "execution_count": 1,
   "id": "7440f147",
   "metadata": {},
   "outputs": [],
   "source": [
    "from langchain_ollama  import ChatOllama\n",
    "\n",
    "model = ChatOllama(model=\"mistral\")\n",
    "\n",
    "events = []\n",
    "async for event in model.astream_events(\"hello\"):\n",
    "    events.append(event)"
   ]
  },
  {
   "cell_type": "code",
   "execution_count": null,
   "id": "ff8602bc",
   "metadata": {},
   "outputs": [],
   "source": [
    "from langchain_core.output_parsers import JsonOutputParser\n",
    "\n",
    "chain = model | JsonOutputParser()\n",
    "\n",
    "query = \"\"\"\n",
    "        output a list of the countries france, spain and japan and their populations in JSON format. \n",
    "        'Use a dict with an outer key of \"countries\" which contains a list of countries. '\n",
    "        Each country should have the key `name` and `population`\n",
    "        \"\"\"\n",
    "\n",
    "# Asynchronously stream events from the chain for the given query\n",
    "events = [event async for event in chain.astream_events(query)]\n",
    "\n",
    "# Print the first 3 events to inspect the output\n",
    "events[:3]"
   ]
  },
  {
   "cell_type": "code",
   "execution_count": null,
   "id": "1e5c47d6",
   "metadata": {},
   "outputs": [],
   "source": [
    "# Initialize a counter for the number of events\n",
    "num_events = 0\n",
    "\n",
    "# Asynchronously iterate through the events from the chain\n",
    "async for event in chain.astream_events(query):\n",
    "    kind = event[\"event\"]\n",
    "    # If the event is a chat model stream, print the content of the chunk\n",
    "    if kind == \"on_chat_model_stream\":\n",
    "        print(f\"Chat model chunk: {repr(event['data']['chunk'].content)}\",\n",
    "            flush=True,)\n",
    "    # If the event is a parser stream, print the chunk from the parser\n",
    "    if kind == \"on_parser_stream\":\n",
    "        print(f\"Parser chunk: {event['data']['chunk']}\", flush=True)\n",
    "    num_events += 1\n",
    "    # Truncate the output after 30 events\n",
    "    if num_events > 30:\n",
    "        print(\"...\")\n",
    "        break"
   ]
  },
  {
   "cell_type": "code",
   "execution_count": null,
   "id": "540ad7a7",
   "metadata": {},
   "outputs": [],
   "source": [
    "# Configure the chain with run names for the model and parser for better tracing\n",
    "chain = model.with_config({\"run_name\": \"model\"}) | JsonOutputParser().with_config(\n",
    "    {\"run_name\": \"my_parser\"}\n",
    ")\n",
    "\n",
    "max_events = 0\n",
    "# Asynchronously stream events, including only \"chat_model\" type events\n",
    "async for event in chain.astream_events(query,include_types=[\"chat_model\"],):\n",
    "    print(event)\n",
    "    max_events += 1\n",
    "    # Truncate the output after 10 events\n",
    "    if max_events > 10:\n",
    "        print(\"...\")\n",
    "        break"
   ]
  },
  {
   "cell_type": "code",
   "execution_count": null,
   "id": "e55f296d",
   "metadata": {},
   "outputs": [],
   "source": [
    "from langchain_core.runnables import RunnableLambda\n",
    "from langchain_core.tools import tool\n",
    "\n",
    "def reverse_word(word: str):\n",
    "    return word[::-1]\n",
    "\n",
    "# Create a RunnableLambda from the reverse_word function\n",
    "reverse_word = RunnableLambda(reverse_word)\n",
    "\n",
    "@tool\n",
    "def bad_tool(word: str):\n",
    "    \"\"\"\n",
    "        Custom tool that doesn't propagate callbacks.\n",
    "    \"\"\"\n",
    "    return reverse_word.invoke(word)\n",
    "\n",
    "# Asynchronously stream events from the bad_tool with the input \"hello\" and no callbacks\n",
    "async for event in bad_tool.astream_events(\"hello\"):\n",
    "    print(event)"
   ]
  },
  {
   "cell_type": "code",
   "execution_count": null,
   "id": "2a22dfca",
   "metadata": {},
   "outputs": [],
   "source": [
    "@tool\n",
    "def correct_tool(word: str, callbacks):\n",
    "    \"\"\"A tool that correctly propagates callbacks.\"\"\"\n",
    "    return reverse_word.invoke(word, {\"callbacks\": callbacks})\n",
    "\n",
    "# Asynchronously stream events with callbacks.\n",
    "async for event in correct_tool.astream_events(\"hello\"):\n",
    "    print(event)"
   ]
  }
 ],
 "metadata": {
  "kernelspec": {
   "display_name": "learn-genai",
   "language": "python",
   "name": "python3"
  },
  "language_info": {
   "codemirror_mode": {
    "name": "ipython",
    "version": 3
   },
   "file_extension": ".py",
   "mimetype": "text/x-python",
   "name": "python",
   "nbconvert_exporter": "python",
   "pygments_lexer": "ipython3",
   "version": "3.13.5"
  }
 },
 "nbformat": 4,
 "nbformat_minor": 5
}
