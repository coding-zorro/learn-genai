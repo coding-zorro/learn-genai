{
 "cells": [
  {
   "cell_type": "code",
   "execution_count": 1,
   "id": "461a6b59",
   "metadata": {},
   "outputs": [],
   "source": [
    "# Create a tool(a function really)\n",
    "# Put that into a list of tools\n",
    "\n",
    "from langchain_core.tools import tool\n",
    "\n",
    "@tool\n",
    "def get_weather(city: str) -> str:\n",
    "    \"\"\"\n",
    "    Returns the weather for a given city\n",
    "    \"\"\"\n",
    "    return f'The weather in the {city} is 28 degrees celsius and warm.'\n",
    "\n",
    "tools = [get_weather]\n",
    "tool_descriptions = \"\\n\".join([f\"{tool.name}: {tool.description}\" for tool in tools])"
   ]
  },
  {
   "cell_type": "code",
   "execution_count": 2,
   "id": "9d942982",
   "metadata": {},
   "outputs": [],
   "source": [
    "#Create a llm object and a prompt template\n",
    "\n",
    "from langchain_ollama import OllamaLLM\n",
    "from langchain_core.prompts import PromptTemplate\n",
    "\n",
    "llm = OllamaLLM(model='mistral', temperature=0)\n",
    "\n",
    "\n",
    "prompt_template = PromptTemplate.from_template(\"\"\"\n",
    "You are an AI assistant that can call tools.\n",
    "\n",
    "Here are the available tools:\n",
    "{tool_descriptions}\n",
    "\n",
    "When needed, respond with a JSON object in the following format:\n",
    "\n",
    "{format_instructions}\n",
    "\n",
    "User input:\n",
    "{text}\n",
    "\n",
    "Remember: Only output the JSON. Do not explain.\n",
    "\"\"\")"
   ]
  },
  {
   "cell_type": "code",
   "execution_count": 3,
   "id": "7262ed1d",
   "metadata": {},
   "outputs": [],
   "source": [
    "# create a ToolCall pydantic class and use that in a JsonOutputParser\n",
    "\n",
    "from pydantic import BaseModel\n",
    "from langchain_core.output_parsers import JsonOutputParser\n",
    "\n",
    "class ToolCall(BaseModel):\n",
    "    tool: str\n",
    "    args: dict\n",
    "\n",
    "parser = JsonOutputParser(pydantic_object=ToolCall)"
   ]
  },
  {
   "cell_type": "code",
   "execution_count": 4,
   "id": "0c812281",
   "metadata": {},
   "outputs": [],
   "source": [
    "# Create a chain and arrange the inputs for the prompt\n",
    "\n",
    "chain = prompt_template | llm | parser\n",
    "user_input = \"whats the weather like in Bangalore\"\n",
    "\n",
    "formatted_prompt = {\n",
    "    \"text\": user_input,\n",
    "    \"tool_descriptions\": tool_descriptions,\n",
    "    \"format_instructions\": parser.get_format_instructions()\n",
    "}"
   ]
  },
  {
   "cell_type": "code",
   "execution_count": null,
   "id": "fcc4b33b",
   "metadata": {},
   "outputs": [],
   "source": [
    "# Invoke the chain, identify the tool to be called and run the tool and print the results\n",
    "# In a more complete code, we would be sending back the tool results into the LLM context\n",
    "\n",
    "try:\n",
    "    tool_call = chain.invoke(formatted_prompt)\n",
    "    print(f'Tool to call: {tool_call['tool']}')\n",
    "    print(f'with arguments: {tool_call['args']}')\n",
    "    \n",
    "    for tool in tools:\n",
    "        if tool.name == tool_call['tool']:\n",
    "            result = tool.run(tool_call['args'])\n",
    "            print(f'result: {result}')\n",
    "            break\n",
    "    \n",
    "except Exception as e:\n",
    "    print(\"Failed to parse or execute tool:\", e)"
   ]
  }
 ],
 "metadata": {
  "kernelspec": {
   "display_name": ".venv",
   "language": "python",
   "name": "python3"
  },
  "language_info": {
   "codemirror_mode": {
    "name": "ipython",
    "version": 3
   },
   "file_extension": ".py",
   "mimetype": "text/x-python",
   "name": "python",
   "nbconvert_exporter": "python",
   "pygments_lexer": "ipython3",
   "version": "3.13.5"
  }
 },
 "nbformat": 4,
 "nbformat_minor": 5
}
